{
 "cells": [
  {
   "cell_type": "code",
   "execution_count": 1,
   "metadata": {},
   "outputs": [],
   "source": [
    "## USE CHROMADB and miniLM embeddings to get vector representation of product description\n"
   ]
  },
  {
   "cell_type": "code",
   "execution_count": 1,
   "metadata": {},
   "outputs": [
    {
     "data": {
      "text/plain": [
       "'mouse'"
      ]
     },
     "execution_count": 1,
     "metadata": {},
     "output_type": "execute_result"
    }
   ],
   "source": [
    "from pydantic import BaseModel\n",
    "\n",
    "\n",
    "class Product(BaseModel):\n",
    "    product_name : str\n",
    "    product_description : str\n",
    "\n",
    "mouse = Product(product_name=\"mouse\", product_description=\"mouse\")\n",
    "\n"
   ]
  },
  {
   "cell_type": "code",
   "execution_count": 5,
   "metadata": {},
   "outputs": [],
   "source": [
    "product_pool = []\n",
    "\n",
    "products_path = r\"C:\\Users\\ayhan\\Desktop\\Smart-Shopper-Recommendation-Engine\\data\\products\"\n",
    " "
   ]
  },
  {
   "cell_type": "code",
   "execution_count": 17,
   "metadata": {},
   "outputs": [
    {
     "data": {
      "text/plain": [
       "[nan,\n",
       " nan,\n",
       " '[{\"mouse_description\":\"Paperback – 27 April 2023\"}]',\n",
       " '[{\"mouse_description\":\"Paperback – 20 Aug. 2015\"}]',\n",
       " '[{\"mouse_description\":\"Paperback – 16 Feb. 2021\"}]',\n",
       " '[{\"mouse_description\":\"Paperback – 15 Mar. 2021\"}]',\n",
       " '[{\"mouse_description\":\"Paperback – 16 Aug. 2020\"}]',\n",
       " '[{\"mouse_description\":\"Paperback – 30 Mar. 2023\"}]',\n",
       " '[{\"mouse_description\":\"Paperback – 13 Oct. 2020\"}]',\n",
       " '[{\"mouse_description\":\"Paperback – 1 Jan. 2019\"}]']"
      ]
     },
     "execution_count": 17,
     "metadata": {},
     "output_type": "execute_result"
    }
   ],
   "source": [
    "import pandas as pd \n",
    "import os \n",
    "\n",
    "for product in os.listdir(products_path)[:1]:\n",
    "    product_path = os.path.join(products_path, product)\n",
    "    product_df = pd.read_excel(product_path, engine=\"openpyxl\")\n",
    "\n",
    "product_df.iloc[20:30]['mouse_description'].tolist()\n",
    "\n"
   ]
  },
  {
   "cell_type": "code",
   "execution_count": null,
   "metadata": {},
   "outputs": [],
   "source": [
    "products = []\n",
    "for product in os.listdir(products_path):\n",
    "    print(product)\n",
    "    product_path = os.path.join(products_path, product)\n",
    "    product_df = pd.read_excel(product_path, engine=\"openpyxl\")\n",
    "    n = product_df[product_df[\"images-src\"].isna()].index[0]\n",
    "    product_descriptions = product_df.iloc[n:]['mouse_description'].tolist()\n",
    "    image_urls = product_df.iloc[:n]['images-src'].tolist()\n",
    "\n",
    "\n",
    "    for desc, img_url in zip(product_descriptions, image_urls):\n",
    "        product = {\n",
    "            \"description\": desc,\n",
    "            \"img_url\": img_url\n",
    "        }\n",
    "        products.append(product)\n",
    "\n",
    "\n",
    "products"
   ]
  },
  {
   "cell_type": "code",
   "execution_count": 21,
   "metadata": {},
   "outputs": [],
   "source": [
    "# Export to JSON\n",
    "import json\n",
    "with open('product_pool.json', 'w') as json_file:\n",
    "    json.dump(products, json_file, indent=4)"
   ]
  },
  {
   "cell_type": "code",
   "execution_count": 24,
   "metadata": {},
   "outputs": [
    {
     "ename": "KeyError",
     "evalue": "'img_vector'",
     "output_type": "error",
     "traceback": [
      "\u001b[1;31m---------------------------------------------------------------------------\u001b[0m",
      "\u001b[1;31mKeyError\u001b[0m                                  Traceback (most recent call last)",
      "\u001b[1;32mc:\\Users\\ayhan\\Desktop\\Smart-Shopper-Recommendation-Engine\\src\\product_desc_to_vector.ipynb Cell 7\u001b[0m line \u001b[0;36m1\n\u001b[1;32m----> <a href='vscode-notebook-cell:/c%3A/Users/ayhan/Desktop/Smart-Shopper-Recommendation-Engine/src/product_desc_to_vector.ipynb#X10sZmlsZQ%3D%3D?line=0'>1</a>\u001b[0m \u001b[39mlen\u001b[39m(products[\u001b[39m0\u001b[39;49m][\u001b[39m'\u001b[39;49m\u001b[39mimg_vector\u001b[39;49m\u001b[39m'\u001b[39;49m])\n",
      "\u001b[1;31mKeyError\u001b[0m: 'img_vector'"
     ]
    }
   ],
   "source": [
    "len(products[0]['img_vector'])"
   ]
  },
  {
   "cell_type": "code",
   "execution_count": 25,
   "metadata": {},
   "outputs": [
    {
     "data": {
      "text/plain": [
       "{'description': '[{\"mouse_description\":\"F1 23 Standard PCWin | Downloading Code EA App - Origin | VideoGame | English\"}]',\n",
       " 'img_url': 'https://m.media-amazon.com/images/I/81mwZgaWbzL._AC_UY218_.jpg'}"
      ]
     },
     "execution_count": 25,
     "metadata": {},
     "output_type": "execute_result"
    }
   ],
   "source": [
    "products[0]"
   ]
  },
  {
   "cell_type": "code",
   "execution_count": null,
   "metadata": {},
   "outputs": [],
   "source": []
  }
 ],
 "metadata": {
  "kernelspec": {
   "display_name": "shopping_recommender_engine",
   "language": "python",
   "name": "shopping_recommender_engine"
  },
  "language_info": {
   "codemirror_mode": {
    "name": "ipython",
    "version": 3
   },
   "file_extension": ".py",
   "mimetype": "text/x-python",
   "name": "python",
   "nbconvert_exporter": "python",
   "pygments_lexer": "ipython3",
   "version": "3.11.5"
  }
 },
 "nbformat": 4,
 "nbformat_minor": 2
}
